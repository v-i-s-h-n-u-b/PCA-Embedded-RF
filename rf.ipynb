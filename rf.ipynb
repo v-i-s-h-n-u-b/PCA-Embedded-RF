{
 "cells": [
  {
   "cell_type": "code",
   "execution_count": 1,
   "id": "623194c4",
   "metadata": {},
   "outputs": [],
   "source": [
    "from sklearn.ensemble import RandomForestClassifier\n",
    "from sklearn.model_selection import train_test_split\n",
    "from sklearn.metrics import precision_recall_fscore_support\n",
    "import pandas as pd\n",
    "import numpy as np"
   ]
  },
  {
   "cell_type": "code",
   "execution_count": 2,
   "id": "f94d09b5",
   "metadata": {},
   "outputs": [
    {
     "data": {
      "text/plain": [
       "(6362620, 11)"
      ]
     },
     "execution_count": 2,
     "metadata": {},
     "output_type": "execute_result"
    }
   ],
   "source": [
    "# Load data\n",
    "data = pd.read_csv(\"dataset.csv\")\n",
    "data.shape"
   ]
  },
  {
   "cell_type": "code",
   "execution_count": 3,
   "id": "edfbe56e",
   "metadata": {},
   "outputs": [],
   "source": [
    "#Preprocessing\n",
    "payment_types = data['type'].unique().tolist()\n",
    "Y = data['isFraud']\n",
    "X = data.drop(['isFraud', 'isFlaggedFraud', 'nameOrig', 'nameDest'], axis=1)\n",
    "X['type'] = X['type'].apply(lambda x: payment_types.index(x))"
   ]
  },
  {
   "cell_type": "code",
   "execution_count": 4,
   "id": "a256b988",
   "metadata": {},
   "outputs": [],
   "source": [
    "X_train, X_test, Y_train, Y_test = train_test_split(X, Y, test_size=0.2, random_state=42)\n",
    "\n",
    "# Initialize Random Forest Classifier\n",
    "rf2 = RandomForestClassifier(n_estimators=50, random_state=42)"
   ]
  },
  {
   "cell_type": "code",
   "execution_count": 6,
   "id": "ef1863f9",
   "metadata": {},
   "outputs": [],
   "source": [
    "# Train the Random Forest model\n",
    "rf2.fit(X_train, Y_train)\n",
    "\n",
    "# Make predictions\n",
    "rf2_predictions = rf2.predict(X_test)"
   ]
  },
  {
   "cell_type": "code",
   "execution_count": 7,
   "id": "256286d5",
   "metadata": {},
   "outputs": [
    {
     "data": {
      "text/plain": [
       "(array([0.99974041, 0.98248286]),\n",
       " array([0.9999819, 0.7962963]),\n",
       " array([0.99986114, 0.87964541]),\n",
       " array([1270904,    1620], dtype=int64))"
      ]
     },
     "execution_count": 7,
     "metadata": {},
     "output_type": "execute_result"
    }
   ],
   "source": [
    "# Evaluate the model\n",
    "result = precision_recall_fscore_support(Y_test, rf2_predictions)\n",
    "result\n",
    "#               Class 0     Class 1\n",
    "# Precision\n",
    "# Recall\n",
    "# F1 score\n",
    "# Num instances"
   ]
  }
 ],
 "metadata": {
  "kernelspec": {
   "display_name": "Python 3 (ipykernel)",
   "language": "python",
   "name": "python3"
  },
  "language_info": {
   "codemirror_mode": {
    "name": "ipython",
    "version": 3
   },
   "file_extension": ".py",
   "mimetype": "text/x-python",
   "name": "python",
   "nbconvert_exporter": "python",
   "pygments_lexer": "ipython3",
   "version": "3.9.18"
  }
 },
 "nbformat": 4,
 "nbformat_minor": 5
}
